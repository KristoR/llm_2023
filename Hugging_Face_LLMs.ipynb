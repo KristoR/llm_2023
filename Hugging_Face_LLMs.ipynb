{
  "cells": [
    {
      "cell_type": "markdown",
      "metadata": {
        "application/vnd.databricks.v1+cell": {
          "cellMetadata": {},
          "inputWidgets": {},
          "nuid": "535e21bb-b38b-4358-bc4a-838a251516f2",
          "showTitle": false,
          "title": ""
        },
        "id": "b6zxkgBHlRuc"
      },
      "source": [
        "\n",
        "# LLMs with Hugging Face\n",
        "\n",
        "In this notebook, we'll take a whirlwind tour of some top applications using Large Language Models (LLMs):\n",
        "* Summarization\n",
        "* Sentiment analysis\n",
        "* Translation\n",
        "* Zero-shot classification\n",
        "* Few-shot learning\n",
        "\n",
        "We will see how existing, open-source (and proprietary) models can be used out-of-the-box for many applications.  For this, we will use [Hugging Face models](https://huggingface.co/models) and some simple prompt engineering.\n",
        "\n",
        "We will then look at Hugging Face APIs in more detail to understand how to configure LLM pipelines.\n",
        "\n",
        "### ![Dolly](https://files.training.databricks.com/images/llm/dolly_small.png) Learning Objectives\n",
        "1. Use a variety of existing models for a variety of common applications.\n",
        "1. Understand basic prompt engineering.\n",
        "1. Understand search vs. sampling for LLM inference.\n",
        "1. Get familiar with the main Hugging Face abstractions: datasets, pipelines, tokenizers, and models."
      ]
    },
    {
      "cell_type": "markdown",
      "metadata": {
        "application/vnd.databricks.v1+cell": {
          "cellMetadata": {},
          "inputWidgets": {},
          "nuid": "fa71c974-d1bd-40fc-a26e-a28415f18df5",
          "showTitle": false,
          "title": ""
        },
        "id": "W8NmUCvZlRud"
      },
      "source": [
        "### Install the necessary libraries (~1-2min)"
      ]
    },
    {
      "cell_type": "code",
      "execution_count": null,
      "metadata": {
        "application/vnd.databricks.v1+cell": {
          "cellMetadata": {
            "byteLimit": 2048000,
            "rowLimit": 10000
          },
          "inputWidgets": {},
          "nuid": "df3d4dfc-ead3-4cc6-9a25-1faa26d1899b",
          "showTitle": false,
          "title": ""
        },
        "id": "9NWBK3QilRue"
      },
      "outputs": [],
      "source": [
        "%pip install sentencepiece==0.1.99 datasets==2.14.5 transformers[sentencepiece]==4.33.3 sacremoses==0.0.53 fastapi==0.103.2 nest-asyncio==1.5.8 pyngrok==7.0.0 uvicorn==0.23.2"
      ]
    },
    {
      "cell_type": "markdown",
      "metadata": {
        "application/vnd.databricks.v1+cell": {
          "cellMetadata": {},
          "inputWidgets": {},
          "nuid": "fd656fe0-b0ed-470c-a4cb-8cea7301f1cf",
          "showTitle": false,
          "title": ""
        },
        "id": "owChVWNllRuf"
      },
      "source": [
        "## Common LLM applications\n",
        "\n",
        "The goal of this section is to get your feet wet with several LLM applications and to show how easy it can be to get started with LLMs.\n",
        "\n",
        "As you go through the examples, note the datasets, models, APIs, and options used.  These simple examples can be starting points when you need to build your own application."
      ]
    },
    {
      "cell_type": "code",
      "execution_count": null,
      "metadata": {
        "application/vnd.databricks.v1+cell": {
          "cellMetadata": {
            "byteLimit": 2048000,
            "rowLimit": 10000
          },
          "inputWidgets": {},
          "nuid": "76c5b94d-54eb-49ce-91cc-2b0153f348f3",
          "showTitle": false,
          "title": ""
        },
        "id": "XCIXDCN-lRug"
      },
      "outputs": [],
      "source": [
        "from datasets import load_dataset\n",
        "from transformers import pipeline"
      ]
    },
    {
      "cell_type": "markdown",
      "metadata": {
        "application/vnd.databricks.v1+cell": {
          "cellMetadata": {},
          "inputWidgets": {},
          "nuid": "ea93d09d-6059-4226-92a8-594f2c905146",
          "showTitle": false,
          "title": ""
        },
        "id": "V3yqsDpjlRug"
      },
      "source": [
        "### Summarization\n",
        "\n",
        "Summarization can take two forms:\n",
        "* `extractive` (selecting representative excerpts from the text)\n",
        "* `abstractive` (generating novel text summaries)\n",
        "\n",
        "Here, we will use a model which does *abstractive* summarization.\n",
        "\n",
        "**Background reading**: The [Hugging Face summarization task page](https://huggingface.co/docs/transformers/tasks/summarization) lists model architectures which support summarization. The [summarization course chapter](https://huggingface.co/course/chapter7/5) provides a detailed walkthrough.\n",
        "\n",
        "In this section, we will use:\n",
        "* **Data**: [xsum](https://huggingface.co/datasets/xsum) dataset, which provides a set of BBC articles and summaries.\n",
        "* **Model**: [t5-small](https://huggingface.co/t5-small) model, which has 60 million parameters (242MB for PyTorch).  T5 is an encoder-decoder model created by Google which supports several tasks such as summarization, translation, Q&A, and text classification.  For more details, see the [Google blog post](https://ai.googleblog.com/2020/02/exploring-transfer-learning-with-t5.html), [code on GitHub](https://github.com/google-research/text-to-text-transfer-transformer), or the [research paper](https://arxiv.org/pdf/1910.10683.pdf)."
      ]
    },
    {
      "cell_type": "code",
      "execution_count": null,
      "metadata": {
        "application/vnd.databricks.v1+cell": {
          "cellMetadata": {},
          "inputWidgets": {},
          "nuid": "04de5c79-61b6-4608-83b9-e84d784756f4",
          "showTitle": false,
          "title": ""
        },
        "id": "B09tf0C9lRug"
      },
      "outputs": [],
      "source": [
        "xsum_dataset = load_dataset(\n",
        "    \"xsum\", version=\"1.2.0\"\n",
        ")  # Note: We specify cache_dir to use predownloaded data.\n",
        "xsum_dataset  # The printed representation of this object shows the `num_rows` of each dataset split."
      ]
    },
    {
      "cell_type": "markdown",
      "metadata": {
        "application/vnd.databricks.v1+cell": {
          "cellMetadata": {},
          "inputWidgets": {},
          "nuid": "48cbdf76-a3fe-4c5e-b383-b09221db6849",
          "showTitle": false,
          "title": ""
        },
        "id": "cU3MQVjdlRug"
      },
      "source": [
        "This dataset provides 3 columns:\n",
        "* `document`: the BBC article text\n",
        "* `summary`: a \"ground-truth\" summary --> Note how subjective this \"ground-truth\" is.  Is this the same summary you would write?  This a great example of how many LLM applications do not have obvious \"right\" answers.\n",
        "* `id`: article ID"
      ]
    },
    {
      "cell_type": "code",
      "execution_count": null,
      "metadata": {
        "application/vnd.databricks.v1+cell": {
          "cellMetadata": {},
          "inputWidgets": {},
          "nuid": "338481f7-9c88-41d3-8fd8-d150fe056d13",
          "showTitle": false,
          "title": ""
        },
        "id": "43ATe0Q8lRuh"
      },
      "outputs": [],
      "source": [
        "xsum_sample = xsum_dataset[\"train\"].select(range(10))\n",
        "xsum_sample.to_pandas()"
      ]
    },
    {
      "cell_type": "markdown",
      "metadata": {
        "application/vnd.databricks.v1+cell": {
          "cellMetadata": {},
          "inputWidgets": {},
          "nuid": "73c40408-b4c0-46fe-a5cb-bd44786a7428",
          "showTitle": false,
          "title": ""
        },
        "id": "0GrGz5kIlRuh"
      },
      "source": [
        "We next use the Hugging Face `pipeline` tool to load a pre-trained model.  In this LLM pipeline constructor, we specify:\n",
        "* `task`: This first argument specifies the primary task.  See [Hugging Face tasks](https://huggingface.co/tasks) for more information.\n",
        "* `model`: This is the name of the pre-trained model from the [Hugging Face Hub](https://huggingface.co/models).\n",
        "* `min_length`, `max_length`: We want our generated summaries to be between these two token lengths.\n",
        "* `truncation`: Some input articles may be too long for the LLM to process.  Most LLMs have fixed limits on the length of input sequences.  This option tells the pipeline to truncate the input if needed."
      ]
    },
    {
      "cell_type": "code",
      "execution_count": null,
      "metadata": {
        "application/vnd.databricks.v1+cell": {
          "cellMetadata": {},
          "inputWidgets": {},
          "nuid": "326dd519-3e80-4dae-885d-c4c117d643d9",
          "showTitle": false,
          "title": ""
        },
        "id": "YjiGAgN9lRuh"
      },
      "outputs": [],
      "source": [
        "summarizer = pipeline(\n",
        "    task=\"summarization\",\n",
        "    model=\"t5-small\",\n",
        "    min_length=20,\n",
        "    max_length=40,\n",
        "    truncation=True,\n",
        ")"
      ]
    },
    {
      "cell_type": "code",
      "execution_count": null,
      "metadata": {
        "application/vnd.databricks.v1+cell": {
          "cellMetadata": {},
          "inputWidgets": {},
          "nuid": "b5a9ca83-af9a-40e5-a98d-70953c8278d4",
          "showTitle": false,
          "title": ""
        },
        "id": "shi4xGUSlRuh"
      },
      "outputs": [],
      "source": [
        "# Apply to 1 article\n",
        "summarizer(xsum_sample[\"document\"][0])"
      ]
    },
    {
      "cell_type": "code",
      "execution_count": null,
      "metadata": {
        "application/vnd.databricks.v1+cell": {
          "cellMetadata": {},
          "inputWidgets": {},
          "nuid": "1cbe15de-79cc-41b6-9481-0c58d53f3d0a",
          "showTitle": false,
          "title": ""
        },
        "id": "90y0iZodlRui"
      },
      "outputs": [],
      "source": [
        "# Apply to a batch of articles\n",
        "results = summarizer(xsum_sample[\"document\"])"
      ]
    },
    {
      "cell_type": "code",
      "execution_count": null,
      "metadata": {
        "application/vnd.databricks.v1+cell": {
          "cellMetadata": {},
          "inputWidgets": {},
          "nuid": "7ca7bf1d-5a92-47ee-8e61-4f822160ac67",
          "showTitle": false,
          "title": ""
        },
        "id": "02FgP6j5lRui"
      },
      "outputs": [],
      "source": [
        "# Display the generated summary side-by-side with the reference summary and original document.\n",
        "# We use Pandas to join the inputs and outputs together in a nice format.\n",
        "import pandas as pd\n",
        "\n",
        "(pd.DataFrame.from_dict(results)\n",
        "  .rename({\"summary_text\": \"generated_summary\"}, axis=1)\n",
        "  .join(pd.DataFrame.from_dict(xsum_sample))[\n",
        "      [\"generated_summary\", \"summary\", \"document\"]\n",
        "  ]\n",
        ")"
      ]
    },
    {
      "cell_type": "markdown",
      "metadata": {
        "application/vnd.databricks.v1+cell": {
          "cellMetadata": {},
          "inputWidgets": {},
          "nuid": "b2414d58-6e13-47d2-9c26-2fb67d906edb",
          "showTitle": false,
          "title": ""
        },
        "id": "c95enNKklRui"
      },
      "source": [
        "### Sentiment analysis\n",
        "\n",
        "Sentiment analysis is a text classification task of estimating whether a piece of text is positive, negative, or another \"sentiment\" label.  The precise set of sentiment labels can vary across applications.\n",
        "\n",
        "**Background reading**: See the Hugging Face [task page on text classification](https://huggingface.co/tasks/text-classification) or [Wikipedia on sentiment analysis](https://en.wikipedia.org/wiki/Sentiment_analysis).\n",
        "\n",
        "In this section, we will use:\n",
        "* **Data**: [poem sentiment](https://huggingface.co/datasets/poem_sentiment) dataset, which provides lines from poems tagged with sentiments `negative` (0), `positive` (1), `no_impact` (2), or `mixed` (3).\n",
        "* **Model**: [fine-tuned version of BERT](https://huggingface.co/nickwong64/bert-base-uncased-poems-sentiment).  BERT, or Bidirectional Encoder Representations from Transformers, is an encoder-only model from Google usable for 11+ tasks such as sentiment analysis and entity recognition.  For more details, see this [Hugging Face blog post](https://huggingface.co/blog/bert-101) or the [Wikipedia page](https://en.wikipedia.org/wiki/BERT_&#40;language_model&#41;)."
      ]
    },
    {
      "cell_type": "code",
      "execution_count": null,
      "metadata": {
        "application/vnd.databricks.v1+cell": {
          "cellMetadata": {},
          "inputWidgets": {},
          "nuid": "b37ef351-7b9c-4860-bb4d-a054aa41cd95",
          "showTitle": false,
          "title": ""
        },
        "id": "9831LFhFlRui"
      },
      "outputs": [],
      "source": [
        "poem_dataset = load_dataset(\n",
        "    \"poem_sentiment\", version=\"1.0.0\"\n",
        ")\n",
        "poem_sample = poem_dataset[\"train\"].select(range(10))\n",
        "poem_sample.to_pandas()"
      ]
    },
    {
      "cell_type": "markdown",
      "metadata": {
        "application/vnd.databricks.v1+cell": {
          "cellMetadata": {},
          "inputWidgets": {},
          "nuid": "65991f54-cba8-4b69-b39b-7726fb19bfd8",
          "showTitle": false,
          "title": ""
        },
        "id": "v6O7ekU5lRui"
      },
      "source": [
        "We load the pipeline using the task `text-classification` since we want to classify text with a fixed set of labels."
      ]
    },
    {
      "cell_type": "code",
      "execution_count": null,
      "metadata": {
        "application/vnd.databricks.v1+cell": {
          "cellMetadata": {},
          "inputWidgets": {},
          "nuid": "7ac92bee-2a5e-4f88-805a-9b7b07dc9730",
          "showTitle": false,
          "title": ""
        },
        "id": "4sPG4NDelRuj"
      },
      "outputs": [],
      "source": [
        "sentiment_classifier = pipeline(\n",
        "    task=\"text-classification\",\n",
        "    model=\"nickwong64/bert-base-uncased-poems-sentiment\",\n",
        ")"
      ]
    },
    {
      "cell_type": "code",
      "execution_count": null,
      "metadata": {
        "application/vnd.databricks.v1+cell": {
          "cellMetadata": {},
          "inputWidgets": {},
          "nuid": "ce8600b8-3758-45b4-b139-8902a2672fa0",
          "showTitle": false,
          "title": ""
        },
        "id": "7ph3uHvKlRuj"
      },
      "outputs": [],
      "source": [
        "results = sentiment_classifier(poem_sample[\"verse_text\"])"
      ]
    },
    {
      "cell_type": "code",
      "execution_count": null,
      "metadata": {
        "application/vnd.databricks.v1+cell": {
          "cellMetadata": {},
          "inputWidgets": {},
          "nuid": "da996bc6-db23-4313-8986-e07ee35bbcbb",
          "showTitle": false,
          "title": ""
        },
        "id": "vsNJk1qMlRuj"
      },
      "outputs": [],
      "source": [
        "# Display the predicted sentiment side-by-side with the ground-truth label and original text.\n",
        "# The score indicates the model's confidence in its prediction.\n",
        "\n",
        "# Join predictions with ground-truth data\n",
        "joined_data = (\n",
        "    pd.DataFrame.from_dict(results)\n",
        "    .rename({\"label\": \"predicted_label\"}, axis=1)\n",
        "    .join(pd.DataFrame.from_dict(poem_sample).rename({\"label\": \"true_label\"}, axis=1))\n",
        ")\n",
        "\n",
        "# Change label indices to text labels\n",
        "sentiment_labels = {0: \"negative\", 1: \"positive\", 2: \"no_impact\", 3: \"mixed\"}\n",
        "joined_data = joined_data.replace({\"true_label\": sentiment_labels})\n",
        "\n",
        "joined_data[[\"predicted_label\", \"true_label\", \"score\", \"verse_text\"]]"
      ]
    },
    {
      "cell_type": "markdown",
      "metadata": {
        "application/vnd.databricks.v1+cell": {
          "cellMetadata": {},
          "inputWidgets": {},
          "nuid": "1dd94dd7-069a-417c-afcd-61c838cf7ede",
          "showTitle": false,
          "title": ""
        },
        "id": "1-cVn1pblRuj"
      },
      "source": [
        "### Translation\n",
        "\n",
        "Translation models may be designed for specific pairs of languages, or they may support more than two languages.  We will see both below.\n",
        "\n",
        "**Background reading**: See the Hugging Face [task page on translation](https://huggingface.co/tasks/translation) or the [Wikipedia page on machine translation](https://en.wikipedia.org/wiki/Machine_translation).\n",
        "\n",
        "In this section, we will use:\n",
        "* **Data**: We will use some example hard-coded sentences.  However, there are a variety of [translation datasets](https://huggingface.co/datasets?task_categories=task_categories:translation&sort=downloads) available from Hugging Face.\n",
        "* **Models**:\n",
        "   * [Helsinki-NLP/opus-mt-en-es](https://huggingface.co/Helsinki-NLP/opus-mt-en-es) is used for the first example of English (\"en\") to Spanish (\"es\") translation.  This model is based on [Marian NMT](https://marian-nmt.github.io/), a neural machine translation framework developed by Microsoft and other researchers.  See the [GitHub page](https://github.com/Helsinki-NLP/Opus-MT) for code and links to related resources.\n",
        "   * [t5-small](https://huggingface.co/t5-small) model, which has 60 million parameters (242MB for PyTorch).  T5 is an encoder-decoder model created by Google which supports several tasks such as summarization, translation, Q&A, and text classification.  For more details, see the [Google blog post](https://ai.googleblog.com/2020/02/exploring-transfer-learning-with-t5.html), [code on GitHub](https://github.com/google-research/text-to-text-transfer-transformer), or the [research paper](https://arxiv.org/pdf/1910.10683.pdf).  For our purposes, it supports translation for English, French, Romanian, and German."
      ]
    },
    {
      "cell_type": "markdown",
      "metadata": {
        "application/vnd.databricks.v1+cell": {
          "cellMetadata": {},
          "inputWidgets": {},
          "nuid": "850f08f6-af27-435f-a452-72b5c5911433",
          "showTitle": false,
          "title": ""
        },
        "id": "QFu2xDGnlRuj"
      },
      "source": [
        "Some models are designed for specific language-to-language translation.  Below, we use an English-to-Spanish model."
      ]
    },
    {
      "cell_type": "code",
      "execution_count": null,
      "metadata": {
        "application/vnd.databricks.v1+cell": {
          "cellMetadata": {},
          "inputWidgets": {},
          "nuid": "afe64d13-c795-4925-91a8-ee7ebbf39f01",
          "showTitle": false,
          "title": ""
        },
        "id": "9eO93CKYlRuj"
      },
      "outputs": [],
      "source": [
        "en_to_es_translation_pipeline = pipeline(\n",
        "    task=\"translation\",\n",
        "    model=\"Helsinki-NLP/opus-mt-en-es\",\n",
        ")"
      ]
    },
    {
      "cell_type": "code",
      "execution_count": null,
      "metadata": {
        "application/vnd.databricks.v1+cell": {
          "cellMetadata": {},
          "inputWidgets": {},
          "nuid": "c0ed6f7b-299c-45c7-aaeb-3c2bfc57aaa3",
          "showTitle": false,
          "title": ""
        },
        "id": "XJjHQioplRuk"
      },
      "outputs": [],
      "source": [
        "en_to_es_translation_pipeline(\n",
        "    \"Existing, open-source (and proprietary) models can be used out-of-the-box for many applications.\"\n",
        ")"
      ]
    },
    {
      "cell_type": "markdown",
      "metadata": {
        "application/vnd.databricks.v1+cell": {
          "cellMetadata": {},
          "inputWidgets": {},
          "nuid": "dcd7d64e-6822-4b97-8355-748046bdb223",
          "showTitle": false,
          "title": ""
        },
        "id": "ZgCKVFa-lRuk"
      },
      "source": [
        "Other models are designed to handle multiple languages.  Below, we show this with `t5-small`.  Note that, since it supports multiple languages (and tasks), we give it an explicit instruction to translate from one language to another."
      ]
    },
    {
      "cell_type": "code",
      "execution_count": null,
      "metadata": {
        "application/vnd.databricks.v1+cell": {
          "cellMetadata": {},
          "inputWidgets": {},
          "nuid": "d4c89af6-a7e4-4545-9ba1-0f385f7f850c",
          "showTitle": false,
          "title": ""
        },
        "id": "YrT1bkQYlRuk"
      },
      "outputs": [],
      "source": [
        "t5_small_pipeline = pipeline(\n",
        "    task=\"text2text-generation\",\n",
        "    model=\"t5-small\",\n",
        "    max_length=50,\n",
        ")"
      ]
    },
    {
      "cell_type": "code",
      "execution_count": null,
      "metadata": {
        "application/vnd.databricks.v1+cell": {
          "cellMetadata": {},
          "inputWidgets": {},
          "nuid": "bb4bdb81-414b-4af2-923c-445920d8f2ad",
          "showTitle": false,
          "title": ""
        },
        "id": "TxIicxXLlRuk"
      },
      "outputs": [],
      "source": [
        "t5_small_pipeline(\n",
        "    \"translate English to French: Existing, open-source (and proprietary) models can be used out-of-the-box for many applications.\"\n",
        ")"
      ]
    },
    {
      "cell_type": "code",
      "execution_count": null,
      "metadata": {
        "application/vnd.databricks.v1+cell": {
          "cellMetadata": {},
          "inputWidgets": {},
          "nuid": "80bbd819-91bf-4387-816e-1952529ab459",
          "showTitle": false,
          "title": ""
        },
        "id": "rORRSypNlRul"
      },
      "outputs": [],
      "source": [
        "t5_small_pipeline(\n",
        "    \"translate English to Romanian: Existing, open-source (and proprietary) models can be used out-of-the-box for many applications.\"\n",
        ")"
      ]
    },
    {
      "cell_type": "markdown",
      "metadata": {
        "application/vnd.databricks.v1+cell": {
          "cellMetadata": {},
          "inputWidgets": {},
          "nuid": "4e0d1c5e-6517-403f-987e-d92383ec5657",
          "showTitle": false,
          "title": ""
        },
        "id": "SbJvdHrxlRul"
      },
      "source": [
        "### Zero-shot classification\n",
        "\n",
        "Zero-shot classification (or zero-shot learning) is the task of classifying a piece of text into one of a few given categories or labels, without having explicitly trained the model to predict those categories beforehand.  The idea appeared in literature before modern LLMs, but recent advances in LLMs have made zero-shot learning much more flexible and powerful.\n",
        "\n",
        "**Background reading**: See the Hugging Face [task page on zero-shot classification](https://huggingface.co/tasks/zero-shot-classification) or [Wikipedia on zero-shot learning](https://en.wikipedia.org/wiki/Zero-shot_learning).\n",
        "\n",
        "In this section, we will use:\n",
        "* **Data**: a few example articles from the [xsum](https://huggingface.co/datasets/xsum) dataset used in the Summarization section above.  Our goal is to label news articles under a few categories.\n",
        "* **Model**: [nli-deberta-v3-small](https://huggingface.co/cross-encoder/nli-deberta-v3-small), a fine-tuned version of the DeBERTa model.  The DeBERTa base model was developed by Microsoft and is one of several models derived from BERT; for more details on DeBERTa, see the [Hugging Face doc page](https://huggingface.co/docs/transformers/model_doc/deberta), the [code on GitHub](https://github.com/microsoft/DeBERTa), or the [research paper](https://arxiv.org/abs/2006.03654)."
      ]
    },
    {
      "cell_type": "code",
      "execution_count": null,
      "metadata": {
        "application/vnd.databricks.v1+cell": {
          "cellMetadata": {},
          "inputWidgets": {},
          "nuid": "838c252d-7568-4cec-b784-3e2dfc4c8d40",
          "showTitle": false,
          "title": ""
        },
        "id": "cONx6mq4lRul"
      },
      "outputs": [],
      "source": [
        "zero_shot_pipeline = pipeline(\n",
        "    task=\"zero-shot-classification\",\n",
        "    model=\"cross-encoder/nli-deberta-v3-small\",\n",
        ")\n",
        "\n",
        "\n",
        "def categorize_article(article: str) -> None:\n",
        "    \"\"\"\n",
        "    This helper function defines the categories (labels) which the model must use to label articles.\n",
        "    Note that our model was NOT fine-tuned to use these specific labels,\n",
        "    but it \"knows\" what the labels mean from its more general training.\n",
        "\n",
        "    This function then prints out the predicted labels alongside their confidence scores.\n",
        "    \"\"\"\n",
        "    results = zero_shot_pipeline(\n",
        "        article,\n",
        "        candidate_labels=[\n",
        "            \"politics\",\n",
        "            \"finance\",\n",
        "            \"sports\",\n",
        "            \"science and technology\",\n",
        "            \"pop culture\",\n",
        "            \"breaking news\",\n",
        "        ],\n",
        "    )\n",
        "    # Print the results nicely\n",
        "    del results[\"sequence\"]\n",
        "    return pd.DataFrame(results)"
      ]
    },
    {
      "cell_type": "code",
      "execution_count": null,
      "metadata": {
        "application/vnd.databricks.v1+cell": {
          "cellMetadata": {},
          "inputWidgets": {},
          "nuid": "caf33bb5-d9a4-42d8-b0d7-094ff0522574",
          "showTitle": false,
          "title": ""
        },
        "id": "OXD7uNbrlRum"
      },
      "outputs": [],
      "source": [
        "categorize_article(\n",
        "    \"\"\"\n",
        "Simone Favaro got the crucial try with the last move of the game, following earlier touchdowns by Chris Fusaro, Zander Fagerson and Junior Bulumakau.\n",
        "Rynard Landman and Ashton Hewitt got a try in either half for the Dragons.\n",
        "Glasgow showed far superior strength in depth as they took control of a messy match in the second period.\n",
        "Home coach Gregor Townsend gave a debut to powerhouse Fijian-born Wallaby wing Taqele Naiyaravoro, and centre Alex Dunbar returned from long-term injury, while the Dragons gave first starts of the season to wing Aled Brew and hooker Elliot Dee.\n",
        "Glasgow lost hooker Pat McArthur to an early shoulder injury but took advantage of their first pressure when Rory Clegg slotted over a penalty on 12 minutes.\n",
        "It took 24 minutes for a disjointed game to produce a try as Sarel Pretorius sniped from close range and Landman forced his way over for Jason Tovey to convert - although it was the lock's last contribution as he departed with a chest injury shortly afterwards.\n",
        "Glasgow struck back when Fusaro drove over from a rolling maul on 35 minutes for Clegg to convert.\n",
        "But the Dragons levelled at 10-10 before half-time when Naiyaravoro was yellow-carded for an aerial tackle on Brew and Tovey slotted the easy goal.\n",
        "The visitors could not make the most of their one-man advantage after the break as their error count cost them dearly.\n",
        "It was Glasgow's bench experience that showed when Mike Blair's break led to a short-range score from teenage prop Fagerson, converted by Clegg.\n",
        "Debutant Favaro was the second home player to be sin-binned, on 63 minutes, but again the Warriors made light of it as replacement wing Bulumakau, a recruit from the Army, pounced to deftly hack through a bouncing ball for an opportunist try.\n",
        "The Dragons got back within striking range with some excellent combined handling putting Hewitt over unopposed after 72 minutes.\n",
        "However, Favaro became sinner-turned-saint as he got on the end of another effective rolling maul to earn his side the extra point with the last move of the game, Clegg converting.\n",
        "Dragons director of rugby Lyn Jones said: \"We're disappointed to have lost but our performance was a lot better [than against Leinster] and the game could have gone either way.\n",
        "\"Unfortunately too many errors behind the scrum cost us a great deal, though from where we were a fortnight ago in Dublin our workrate and desire was excellent.\n",
        "\"It was simply error count from individuals behind the scrum that cost us field position, it's not rocket science - they were correct in how they played and we had a few errors, that was the difference.\"\n",
        "Glasgow Warriors: Rory Hughes, Taqele Naiyaravoro, Alex Dunbar, Fraser Lyle, Lee Jones, Rory Clegg, Grayson Hart; Alex Allan, Pat MacArthur, Zander Fagerson, Rob Harley (capt), Scott Cummings, Hugh Blake, Chris Fusaro, Adam Ashe.\n",
        "Replacements: Fergus Scott, Jerry Yanuyanutawa, Mike Cusack, Greg Peterson, Simone Favaro, Mike Blair, Gregor Hunter, Junior Bulumakau.\n",
        "Dragons: Carl Meyer, Ashton Hewitt, Ross Wardle, Adam Warren, Aled Brew, Jason Tovey, Sarel Pretorius; Boris Stankovich, Elliot Dee, Brok Harris, Nick Crosswell, Rynard Landman (capt), Lewis Evans, Nic Cudd, Ed Jackson.\n",
        "Replacements: Rhys Buckley, Phil Price, Shaun Knight, Matthew Screech, Ollie Griffiths, Luc Jones, Charlie Davies, Nick Scott.\n",
        "\"\"\"\n",
        ")"
      ]
    },
    {
      "cell_type": "code",
      "execution_count": null,
      "metadata": {
        "application/vnd.databricks.v1+cell": {
          "cellMetadata": {},
          "inputWidgets": {},
          "nuid": "65f77d3d-28f5-457b-a5de-ed2762fc4dae",
          "showTitle": false,
          "title": ""
        },
        "id": "wcY4Il4HlRum"
      },
      "outputs": [],
      "source": [
        "categorize_article(\n",
        "    \"\"\"\n",
        "The full cost of damage in Newton Stewart, one of the areas worst affected, is still being assessed.\n",
        "Repair work is ongoing in Hawick and many roads in Peeblesshire remain badly affected by standing water.\n",
        "Trains on the west coast mainline face disruption due to damage at the Lamington Viaduct.\n",
        "Many businesses and householders were affected by flooding in Newton Stewart after the River Cree overflowed into the town.\n",
        "First Minister Nicola Sturgeon visited the area to inspect the damage.\n",
        "The waters breached a retaining wall, flooding many commercial properties on Victoria Street - the main shopping thoroughfare.\n",
        "Jeanette Tate, who owns the Cinnamon Cafe which was badly affected, said she could not fault the multi-agency response once the flood hit.\n",
        "However, she said more preventative work could have been carried out to ensure the retaining wall did not fail.\n",
        "\"It is difficult but I do think there is so much publicity for Dumfries and the Nith - and I totally appreciate that - but it is almost like we're neglected or forgotten,\" she said.\n",
        "\"That may not be true but it is perhaps my perspective over the last few days.\n",
        "\"Why were you not ready to help us a bit more when the warning and the alarm alerts had gone out?\"\n",
        "Meanwhile, a flood alert remains in place across the Borders because of the constant rain.\n",
        "Peebles was badly hit by problems, sparking calls to introduce more defences in the area.\n",
        "Scottish Borders Council has put a list on its website of the roads worst affected and drivers have been urged not to ignore closure signs.\n",
        "The Labour Party's deputy Scottish leader Alex Rowley was in Hawick on Monday to see the situation first hand.\n",
        "He said it was important to get the flood protection plan right but backed calls to speed up the process.\n",
        "\"I was quite taken aback by the amount of damage that has been done,\" he said.\n",
        "\"Obviously it is heart-breaking for people who have been forced out of their homes and the impact on businesses.\"\n",
        "He said it was important that \"immediate steps\" were taken to protect the areas most vulnerable and a clear timetable put in place for flood prevention plans.\n",
        "Have you been affected by flooding in Dumfries and Galloway or the Borders? Tell us about your experience of the situation and how it was handled. Email us on selkirk.news@bbc.co.uk or dumfries@bbc.co.uk.\n",
        "\"\"\"\n",
        ")"
      ]
    },
    {
      "cell_type": "markdown",
      "metadata": {
        "application/vnd.databricks.v1+cell": {
          "cellMetadata": {},
          "inputWidgets": {},
          "nuid": "c652f57a-7997-4c56-a425-f08bcb1ea417",
          "showTitle": false,
          "title": ""
        },
        "id": "kuvkwjaWlRum"
      },
      "source": [
        "### Few-shot learning\n",
        "\n",
        "In few-shot learning tasks, you give the model an instruction, a few query-response examples of how to follow that instruction, and then a new query.  The model must generate the response for that new query.  This technique has pros and cons: it is very powerful and allows models to be reused for many more applications, but it can be finicky and require significant prompt engineering to get good and reliable results.\n",
        "\n",
        "**Background reading**: See the [Wikipedia page on few-shot learning](https://en.wikipedia.org/wiki/Few-shot_learning_&#40;natural_language_processing&#41;) or [this Hugging Face blog about few-shot learning](https://huggingface.co/blog/few-shot-learning-gpt-neo-and-inference-api).\n",
        "\n",
        "In this section, we will use:\n",
        "* **Task**: Few-shot learning can be applied to many tasks.  Here, we will do sentiment analysis, which was covered earlier.  However, you will see how few-shot learning allows us to specify custom labels, whereas the previous model was tuned for a specific set of labels.  We will also show other (toy) tasks at the end.  In terms of the Hugging Face `task` specified in the `pipeline` constructor, few-shot learning is handled as a `text-generation` task.\n",
        "* **Data**: We use a few examples, including a tweet example from the blog post linked above.\n",
        "* **Model**: [gpt-neo-1.3B](https://huggingface.co/EleutherAI/gpt-neo-1.3B), a version of the GPT-Neo model discussed in the blog linked above.  It is a transformer model with 1.3 billion parameters developed by Eleuther AI.  For more details, see the [code on GitHub](https://github.com/EleutherAI/gpt-neo) or the [research paper](https://arxiv.org/abs/2204.06745)."
      ]
    },
    {
      "cell_type": "code",
      "execution_count": null,
      "metadata": {
        "application/vnd.databricks.v1+cell": {
          "cellMetadata": {},
          "inputWidgets": {},
          "nuid": "a6733476-ec68-4980-83c3-32b3d9e08ae6",
          "showTitle": false,
          "title": ""
        },
        "id": "VXiIL6UElRum"
      },
      "outputs": [],
      "source": [
        "# We will limit the response length for our few-shot learning tasks.\n",
        "few_shot_pipeline = pipeline(\n",
        "    task=\"text-generation\",\n",
        "    model=\"EleutherAI/gpt-neo-1.3B\",\n",
        "    max_new_tokens=10,\n",
        ")"
      ]
    },
    {
      "cell_type": "markdown",
      "metadata": {
        "application/vnd.databricks.v1+cell": {
          "cellMetadata": {},
          "inputWidgets": {},
          "nuid": "e8fcdf33-8302-4d82-84d0-a195f4bf21e0",
          "showTitle": false,
          "title": ""
        },
        "id": "q-nJ1Rt2lRum"
      },
      "source": [
        "***Tip***: In the few-shot prompts below, we separate the examples with a special token \"###\" and use the same token to encourage the LLM to end its output after answering the query.  We will tell the pipeline to use that special token as the end-of-sequence (EOS) token below."
      ]
    },
    {
      "cell_type": "code",
      "execution_count": null,
      "metadata": {
        "application/vnd.databricks.v1+cell": {
          "cellMetadata": {},
          "inputWidgets": {},
          "nuid": "9559c316-3f02-41d1-b18d-4e432470905c",
          "showTitle": false,
          "title": ""
        },
        "id": "A2xXaW1VlRun"
      },
      "outputs": [],
      "source": [
        "# Get the token ID for \"###\", which we will use as the EOS token below.\n",
        "eos_token_id = few_shot_pipeline.tokenizer.encode(\"###\")[0]"
      ]
    },
    {
      "cell_type": "code",
      "execution_count": null,
      "metadata": {
        "application/vnd.databricks.v1+cell": {
          "cellMetadata": {},
          "inputWidgets": {},
          "nuid": "ad1f1505-36ec-4002-bcfe-bec66d2cdedd",
          "showTitle": false,
          "title": ""
        },
        "id": "etuzV7cClRuo"
      },
      "outputs": [],
      "source": [
        "# Without any examples, the model output is inconsistent and usually incorrect.\n",
        "results = few_shot_pipeline(\n",
        "    \"\"\"For each tweet, describe its sentiment:\n",
        "\n",
        "[Tweet]: \"This new music video was incredible\"\n",
        "[Sentiment]:\"\"\",\n",
        "    eos_token_id=eos_token_id,\n",
        ")\n",
        "\n",
        "print(results[0][\"generated_text\"])"
      ]
    },
    {
      "cell_type": "code",
      "execution_count": null,
      "metadata": {
        "application/vnd.databricks.v1+cell": {
          "cellMetadata": {},
          "inputWidgets": {},
          "nuid": "e4f05200-7f9c-4edc-94f3-a4384eaea9b2",
          "showTitle": false,
          "title": ""
        },
        "id": "AvR04-owlRuo"
      },
      "outputs": [],
      "source": [
        "# With only 1 example, the model may or may not get the answer right.\n",
        "results = few_shot_pipeline(\n",
        "    \"\"\"For each tweet, describe its sentiment:\n",
        "\n",
        "[Tweet]: \"This is the link to the article\"\n",
        "[Sentiment]: Neutral\n",
        "###\n",
        "[Tweet]: \"This new music video was incredible\"\n",
        "[Sentiment]:\"\"\",\n",
        "    eos_token_id=eos_token_id,\n",
        ")\n",
        "\n",
        "print(results[0][\"generated_text\"])"
      ]
    },
    {
      "cell_type": "code",
      "execution_count": null,
      "metadata": {
        "application/vnd.databricks.v1+cell": {
          "cellMetadata": {},
          "inputWidgets": {},
          "nuid": "ce42b9c9-4097-4f27-929d-7a92819d6e80",
          "showTitle": false,
          "title": ""
        },
        "id": "Co2GdQx0lRuo"
      },
      "outputs": [],
      "source": [
        "# With 1 example for each sentiment, the model is more likely to understand!\n",
        "results = few_shot_pipeline(\n",
        "    \"\"\"For each tweet, describe its sentiment:\n",
        "\n",
        "[Tweet]: \"I hate it when my phone battery dies.\"\n",
        "[Sentiment]: Negative\n",
        "###\n",
        "[Tweet]: \"My day has been 👍\"\n",
        "[Sentiment]: Positive\n",
        "###\n",
        "[Tweet]: \"This is the link to the article\"\n",
        "[Sentiment]: Neutral\n",
        "###\n",
        "[Tweet]: \"This new music video was incredible\"\n",
        "[Sentiment]:\"\"\",\n",
        "    eos_token_id=eos_token_id,\n",
        ")\n",
        "\n",
        "print(results[0][\"generated_text\"])"
      ]
    },
    {
      "cell_type": "markdown",
      "metadata": {
        "application/vnd.databricks.v1+cell": {
          "cellMetadata": {},
          "inputWidgets": {},
          "nuid": "164b6df3-e72e-42b9-abc5-d6c4704893b7",
          "showTitle": false,
          "title": ""
        },
        "id": "HYSNKMbwlRuo"
      },
      "source": [
        "Just for fun, we show a few more examples below."
      ]
    },
    {
      "cell_type": "code",
      "execution_count": null,
      "metadata": {
        "application/vnd.databricks.v1+cell": {
          "cellMetadata": {},
          "inputWidgets": {},
          "nuid": "a0a377ab-32ac-4f06-940f-f881c2c507e3",
          "showTitle": false,
          "title": ""
        },
        "id": "EZCTFOm4lRup"
      },
      "outputs": [],
      "source": [
        "# The model isn't ready to serve drinks!\n",
        "results = few_shot_pipeline(\n",
        "    \"\"\"For each food, suggest a good drink pairing:\n",
        "\n",
        "[food]: tapas\n",
        "[drink]: wine\n",
        "###\n",
        "[food]: pizza\n",
        "[drink]: soda\n",
        "###\n",
        "[food]: jalapenos poppers\n",
        "[drink]: beer\n",
        "###\n",
        "[food]: scone\n",
        "[drink]:\"\"\",\n",
        "    eos_token_id=eos_token_id,\n",
        ")\n",
        "\n",
        "print(results[0][\"generated_text\"])"
      ]
    },
    {
      "cell_type": "code",
      "execution_count": null,
      "metadata": {
        "application/vnd.databricks.v1+cell": {
          "cellMetadata": {},
          "inputWidgets": {},
          "nuid": "27dc17d0-2193-492b-ae62-862e0db2d85f",
          "showTitle": false,
          "title": ""
        },
        "id": "hcXSWdRtlRup"
      },
      "outputs": [],
      "source": [
        "# This example sometimes works and sometimes does not, when sampling.  Too abstract?\n",
        "results = few_shot_pipeline(\n",
        "    \"\"\"Given a word describing how someone is feeling, suggest a description of that person.  The description should not include the original word.\n",
        "\n",
        "[word]: happy\n",
        "[description]: smiling, laughing, clapping\n",
        "###\n",
        "[word]: nervous\n",
        "[description]: glancing around quickly, sweating, fidgeting\n",
        "###\n",
        "[word]: sleepy\n",
        "[description]: heavy-lidded, slumping, rubbing eyes\n",
        "###\n",
        "[word]: confused\n",
        "[description]:\"\"\",\n",
        "    eos_token_id=eos_token_id,\n",
        ")\n",
        "\n",
        "print(results[0][\"generated_text\"])"
      ]
    },
    {
      "cell_type": "code",
      "execution_count": null,
      "metadata": {
        "application/vnd.databricks.v1+cell": {
          "cellMetadata": {},
          "inputWidgets": {},
          "nuid": "77ed16ff-eda6-409e-ae29-aee0e6d262d0",
          "showTitle": false,
          "title": ""
        },
        "id": "7xIwVaNXlRup"
      },
      "outputs": [],
      "source": [
        "# We override max_new_tokens to generate longer answers.\n",
        "# These book descriptions were taken from their corresponding Wikipedia pages.\n",
        "results = few_shot_pipeline(\n",
        "    \"\"\"Generate a book summary from the title:\n",
        "\n",
        "[book title]: \"Stranger in a Strange Land\"\n",
        "[book description]: \"This novel tells the story of Valentine Michael Smith, a human who comes to Earth in early adulthood after being born on the planet Mars and raised by Martians, and explores his interaction with and eventual transformation of Terran culture.\"\n",
        "###\n",
        "[book title]: \"The Adventures of Tom Sawyer\"\n",
        "[book description]: \"This novel is about a boy growing up along the Mississippi River. It is set in the 1840s in the town of St. Petersburg, which is based on Hannibal, Missouri, where Twain lived as a boy. In the novel, Tom Sawyer has several adventures, often with his friend Huckleberry Finn.\"\n",
        "###\n",
        "[book title]: \"Dune\"\n",
        "[book description]: \"This novel is set in the distant future amidst a feudal interstellar society in which various noble houses control planetary fiefs. It tells the story of young Paul Atreides, whose family accepts the stewardship of the planet Arrakis. While the planet is an inhospitable and sparsely populated desert wasteland, it is the only source of melange, or spice, a drug that extends life and enhances mental abilities.  The story explores the multilayered interactions of politics, religion, ecology, technology, and human emotion, as the factions of the empire confront each other in a struggle for the control of Arrakis and its spice.\"\n",
        "###\n",
        "[book title]: \"Blue Mars\"\n",
        "[book description]:\"\"\",\n",
        "    eos_token_id=eos_token_id,\n",
        "    max_new_tokens=50,\n",
        ")\n",
        "\n",
        "print(results[0][\"generated_text\"])"
      ]
    },
    {
      "cell_type": "markdown",
      "metadata": {
        "application/vnd.databricks.v1+cell": {
          "cellMetadata": {},
          "inputWidgets": {},
          "nuid": "91fb7cef-9cc6-41f9-b995-b33a37c5fcfb",
          "showTitle": false,
          "title": ""
        },
        "id": "fLUp6EI-lRup"
      },
      "source": [
        "**Prompt engineering** is a new but critical technique for working with LLMs.  You saw some brief examples above.  As you use more general and powerful models, constructing good prompts becomes ever more important.  Some great resources to learn more are:\n",
        "* [Wikipedia](https://en.wikipedia.org/wiki/Prompt_engineering) for a brief overview\n",
        "* [Best practices for prompt engineering with OpenAI API](https://help.openai.com/en/articles/6654000-best-practices-for-prompt-engineering-with-openai-api)\n",
        "* [🧠 Awesome ChatGPT Prompts](https://github.com/f/awesome-chatgpt-prompts) for fun examples with ChatGPT"
      ]
    },
    {
      "cell_type": "markdown",
      "metadata": {
        "application/vnd.databricks.v1+cell": {
          "cellMetadata": {},
          "inputWidgets": {},
          "nuid": "565641e5-54b2-46e3-a928-2bd29dddded7",
          "showTitle": false,
          "title": ""
        },
        "id": "oIdmuUFBlRup"
      },
      "source": [
        "## Hugging Face APIs\n",
        "\n",
        "In this section, we dive into some more details on Hugging Face APIs.\n",
        "* Search and sampling to generate text\n",
        "* Auto* loaders for tokenizers and models\n",
        "* Model-specific loaders\n",
        "\n",
        "Recall the `xsum` dataset from the **Summarization** section above:"
      ]
    },
    {
      "cell_type": "code",
      "execution_count": null,
      "metadata": {
        "application/vnd.databricks.v1+cell": {
          "cellMetadata": {},
          "inputWidgets": {},
          "nuid": "e0f6dd6e-487f-4b7c-9918-3f9fa8d9d090",
          "showTitle": false,
          "title": ""
        },
        "id": "9es9JAyrlRuq"
      },
      "outputs": [],
      "source": [
        "xsum_sample.to_pandas()"
      ]
    },
    {
      "cell_type": "markdown",
      "metadata": {
        "application/vnd.databricks.v1+cell": {
          "cellMetadata": {},
          "inputWidgets": {},
          "nuid": "92dbfff6-d677-4168-87c0-2c6c5c66d295",
          "showTitle": false,
          "title": ""
        },
        "id": "ZMlybe7VlRuq"
      },
      "source": [
        "### Search and sampling in inference\n",
        "\n",
        "You may see parameters like `num_beams`, `do_sample`, etc. specified in Hugging Face pipelines.  These are inference configurations.\n",
        "\n",
        "LLMs work by predicting (generating) the next token, then the next, and so on.  The goal is to generate a high probability sequence of tokens, which is essentially a search through the (enormous) space of potential sequences.\n",
        "\n",
        "To do this search, LLMs use one of two main methods:\n",
        "* **Search**: Given the tokens generated so far, pick the next most likely token in a \"search.\"\n",
        "   * **Greedy search** (default): Pick the single next most likely token in a greedy search.\n",
        "   * **Beam search**: Greedy search can be extended via beam search, which searches down several sequence paths, via the parameter `num_beams`.\n",
        "* **Sampling**: Given the tokens generated so far, pick the next token by sampling from the predicted distribution of tokens.\n",
        "   * **Top-K sampling**: The parameter `top_k` modifies sampling by limiting it to the `k` most likely tokens.\n",
        "   * **Top-p sampling**: The parameter `top_p` modifies sampling by limiting it to the most likely tokens up to probability mass `p`.\n",
        "\n",
        "You can toggle between search and sampling via parameter `do_sample`.\n",
        "\n",
        "For more background on search and sampling, see [this Hugging Face blog post](https://huggingface.co/blog/how-to-generate).\n",
        "\n",
        "We will illustrate these various options below using our summarization pipeline."
      ]
    },
    {
      "cell_type": "code",
      "execution_count": null,
      "metadata": {
        "application/vnd.databricks.v1+cell": {
          "cellMetadata": {},
          "inputWidgets": {},
          "nuid": "18363ab7-3c7e-4361-bf0d-d273a1fe2b90",
          "showTitle": false,
          "title": ""
        },
        "id": "Idfrtl3UlRuq"
      },
      "outputs": [],
      "source": [
        "# We previously called the summarization pipeline using the default inference configuration.\n",
        "# This does greedy search.\n",
        "summarizer(xsum_sample[\"document\"][0])"
      ]
    },
    {
      "cell_type": "code",
      "execution_count": null,
      "metadata": {
        "application/vnd.databricks.v1+cell": {
          "cellMetadata": {},
          "inputWidgets": {},
          "nuid": "50840e56-e6a1-4ea6-842c-e4ba1b485d3f",
          "showTitle": false,
          "title": ""
        },
        "id": "YUL3CLD1lRuq"
      },
      "outputs": [],
      "source": [
        "# We can instead do a beam search by specifying num_beams.\n",
        "# This takes longer to run, but it might find a better (more likely) sequence of text.\n",
        "summarizer(xsum_sample[\"document\"][0], num_beams=50)"
      ]
    },
    {
      "cell_type": "code",
      "execution_count": null,
      "metadata": {
        "application/vnd.databricks.v1+cell": {
          "cellMetadata": {},
          "inputWidgets": {},
          "nuid": "c7847629-8f3c-40df-ae55-f87da6c27f37",
          "showTitle": false,
          "title": ""
        },
        "id": "lyXPdMIjlRuq"
      },
      "outputs": [],
      "source": [
        "# Alternatively, we could use sampling.\n",
        "summarizer(xsum_sample[\"document\"][0], do_sample=True)"
      ]
    },
    {
      "cell_type": "code",
      "execution_count": null,
      "metadata": {
        "application/vnd.databricks.v1+cell": {
          "cellMetadata": {},
          "inputWidgets": {},
          "nuid": "d3a04a77-4cf2-42be-a863-9e7769c345be",
          "showTitle": false,
          "title": ""
        },
        "id": "7yDOu3vHlRuq"
      },
      "outputs": [],
      "source": [
        "# We can modify sampling to be more greedy by limiting sampling to the top_k or top_p most likely next tokens.\n",
        "summarizer(xsum_sample[\"document\"][0], do_sample=True, top_k=10, top_p=0.8)"
      ]
    },
    {
      "cell_type": "markdown",
      "metadata": {
        "application/vnd.databricks.v1+cell": {
          "cellMetadata": {},
          "inputWidgets": {},
          "nuid": "02fe4248-8034-45c9-863e-d9a52ba1d77a",
          "showTitle": false,
          "title": ""
        },
        "id": "s-3WMxnWlRur"
      },
      "source": [
        "### Auto* loaders for tokenizers and models\n",
        "\n",
        "We have already seen the `dataset` and `pipeline` abstractions from Hugging Face.  While a `pipeline` is a quick way to set up an LLM for a given task, the slightly lower-level abstractions `model` and `tokenizer` permit a bit more control over options.  We will show how to use those briefly, following this pattern:\n",
        "\n",
        "* Given input articles.\n",
        "* Tokenize them (converting to token indices).\n",
        "* Apply the model on the tokenized data to generate summaries (represented as token indices).\n",
        "* Decode the summaries into human-readable text.\n",
        "\n",
        "We will first look at the [Auto* classes](https://huggingface.co/docs/transformers/model_doc/auto) for tokenizers and model types which can simplify loading pre-trained tokenizers and models.\n",
        "\n",
        "API docs:\n",
        "* [AutoTokenizer](https://huggingface.co/docs/transformers/main/en/model_doc/auto#transformers.AutoTokenizer)\n",
        "* [AutoModelForSeq2SeqLM](https://huggingface.co/docs/transformers/main/en/model_doc/auto#transformers.AutoModelForSeq2SeqLM)"
      ]
    },
    {
      "cell_type": "code",
      "execution_count": null,
      "metadata": {
        "application/vnd.databricks.v1+cell": {
          "cellMetadata": {},
          "inputWidgets": {},
          "nuid": "b05e0062-1ff5-47c6-8f7d-f06aabdd0dda",
          "showTitle": false,
          "title": ""
        },
        "id": "Jz6aNlRUlRur"
      },
      "outputs": [],
      "source": [
        "from transformers import AutoTokenizer, AutoModelForSeq2SeqLM\n",
        "\n",
        "# Load the pre-trained tokenizer and model.\n",
        "tokenizer = AutoTokenizer.from_pretrained(\"t5-small\")\n",
        "model = AutoModelForSeq2SeqLM.from_pretrained(\"t5-small\")"
      ]
    },
    {
      "cell_type": "code",
      "execution_count": null,
      "metadata": {
        "application/vnd.databricks.v1+cell": {
          "cellMetadata": {},
          "inputWidgets": {},
          "nuid": "c8d443b4-9ef2-4ad8-b77c-6b97a9f161ef",
          "showTitle": false,
          "title": ""
        },
        "id": "t4UKyCkxlRur"
      },
      "outputs": [],
      "source": [
        "# For summarization, T5-small expects a prefix \"summarize: \", so we prepend that to each article as a prompt.\n",
        "articles = list(map(lambda article: \"summarize: \" + article, xsum_sample[\"document\"]))\n",
        "pd.DataFrame(articles, columns=[\"prompts\"])"
      ]
    },
    {
      "cell_type": "code",
      "execution_count": null,
      "metadata": {
        "application/vnd.databricks.v1+cell": {
          "cellMetadata": {},
          "inputWidgets": {},
          "nuid": "63579a8d-5759-4303-9c39-06b5d625f59b",
          "showTitle": false,
          "title": ""
        },
        "id": "fnTwy2STlRur"
      },
      "outputs": [],
      "source": [
        "# Tokenize the input\n",
        "inputs = tokenizer(\n",
        "    articles, max_length=1024, return_tensors=\"pt\", padding=True, truncation=True\n",
        ")\n",
        "print(\"input_ids:\")\n",
        "print(inputs[\"input_ids\"])\n",
        "print(\"attention_mask:\")\n",
        "print(inputs[\"attention_mask\"])"
      ]
    },
    {
      "cell_type": "code",
      "execution_count": null,
      "metadata": {
        "application/vnd.databricks.v1+cell": {
          "cellMetadata": {},
          "inputWidgets": {},
          "nuid": "027cef24-7298-440f-b29b-3598baf49fee",
          "showTitle": false,
          "title": ""
        },
        "id": "FUSZzsvtlRur"
      },
      "outputs": [],
      "source": [
        "# Generate summaries\n",
        "summary_ids = model.generate(\n",
        "    inputs.input_ids,\n",
        "    attention_mask=inputs.attention_mask,\n",
        "    num_beams=2,\n",
        "    min_length=0,\n",
        "    max_length=40,\n",
        ")\n",
        "print(summary_ids)"
      ]
    },
    {
      "cell_type": "code",
      "execution_count": null,
      "metadata": {
        "application/vnd.databricks.v1+cell": {
          "cellMetadata": {},
          "inputWidgets": {},
          "nuid": "5a8a9211-11f9-439d-9681-d4b8e72d0940",
          "showTitle": false,
          "title": ""
        },
        "id": "XPhyXJsflRus"
      },
      "outputs": [],
      "source": [
        "# Decode the generated summaries\n",
        "decoded_summaries = tokenizer.batch_decode(summary_ids, skip_special_tokens=True)\n",
        "pd.DataFrame(decoded_summaries, columns=[\"decoded_summaries\"])"
      ]
    },
    {
      "cell_type": "markdown",
      "metadata": {
        "application/vnd.databricks.v1+cell": {
          "cellMetadata": {},
          "inputWidgets": {},
          "nuid": "8500fd21-002a-4df4-909e-f6e5034ec392",
          "showTitle": false,
          "title": ""
        },
        "id": "smuQVjLWlRus"
      },
      "source": [
        "### Model-specific tokenizer and model loaders\n",
        "\n",
        "You can also more directly load specific tokenizer and model types, rather than relying on `Auto*` classes to choose the right ones for you.\n",
        "\n",
        "API docs:\n",
        "* [T5Tokenizer](https://huggingface.co/docs/transformers/main/en/model_doc/t5#transformers.T5Tokenizer)\n",
        "* [T5ForConditionalGeneration](https://huggingface.co/docs/transformers/main/en/model_doc/t5#transformers.T5ForConditionalGeneration)"
      ]
    },
    {
      "cell_type": "code",
      "execution_count": null,
      "metadata": {
        "application/vnd.databricks.v1+cell": {
          "cellMetadata": {},
          "inputWidgets": {},
          "nuid": "78d810f8-aa98-4123-8785-b2d246b9c10e",
          "showTitle": false,
          "title": ""
        },
        "id": "FFeF0dXqlRus"
      },
      "outputs": [],
      "source": [
        "from transformers import T5Tokenizer, T5ForConditionalGeneration\n",
        "\n",
        "tokenizer = T5Tokenizer.from_pretrained(\"t5-small\")\n",
        "model = T5ForConditionalGeneration.from_pretrained(\n",
        "    \"t5-small\"\n",
        ")"
      ]
    },
    {
      "cell_type": "code",
      "execution_count": null,
      "metadata": {
        "application/vnd.databricks.v1+cell": {
          "cellMetadata": {},
          "inputWidgets": {},
          "nuid": "421891ee-dd90-4f51-949a-13e7f3eefd97",
          "showTitle": false,
          "title": ""
        },
        "id": "nz2E6-pqlRus"
      },
      "outputs": [],
      "source": [
        "# The tokenizer and model can then be used similarly to how we used the ones loaded by the Auto* classes.\n",
        "inputs = tokenizer(\n",
        "    articles, max_length=1024, return_tensors=\"pt\", padding=True, truncation=True\n",
        ")\n",
        "summary_ids = model.generate(\n",
        "    inputs.input_ids,\n",
        "    attention_mask=inputs.attention_mask,\n",
        "    num_beams=2,\n",
        "    min_length=0,\n",
        "    max_length=40,\n",
        ")\n",
        "decoded_summaries = tokenizer.batch_decode(summary_ids, skip_special_tokens=True)\n",
        "\n",
        "pd.DataFrame(decoded_summaries, columns=[\"decoded_summaries\"])"
      ]
    },
    {
      "cell_type": "markdown",
      "source": [
        "## Using the prediction models in an API\n",
        "\n",
        "Note that this is just a toy example, but just to give you an idea how easy it is to use some open source models in your own usecases."
      ],
      "metadata": {
        "id": "jsTLJIMhIv1v"
      }
    },
    {
      "cell_type": "code",
      "source": [
        "from fastapi import FastAPI, Request\n",
        "from fastapi.middleware.cors import CORSMiddleware\n",
        "\n",
        "app = FastAPI()\n",
        "\n",
        "app.add_middleware(\n",
        "    CORSMiddleware,\n",
        "    allow_origins=['*'],\n",
        "    allow_credentials=True,\n",
        "    allow_methods=['*'],\n",
        "    allow_headers=['*'],\n",
        ")\n",
        "@app.get(\"/\")\n",
        "def hello():\n",
        "    return \"hello LLM\"\n",
        "\n",
        "@app.post(\"/predict\")\n",
        "async def predict(info : Request):\n",
        "    req = await info.json()\n",
        "    prompt = req[\"prompt\"]\n",
        "    return sentiment_classifier(prompt)"
      ],
      "metadata": {
        "id": "PcUU_2Tg-1Jc"
      },
      "execution_count": null,
      "outputs": []
    },
    {
      "cell_type": "code",
      "source": [
        "import nest_asyncio\n",
        "from pyngrok import ngrok\n",
        "import uvicorn\n",
        "\n",
        "ngrok_tunnel = ngrok.connect(8000)\n",
        "print('Public URL:', ngrok_tunnel.public_url)\n",
        "nest_asyncio.apply()\n",
        "uvicorn.run(app, port=8000)\n",
        "\n",
        "# wait for the Public URL to appear and then send a json POST request to the public URL /predict. E.g., {\"prompt\": \"you are very smart\"}"
      ],
      "metadata": {
        "id": "3LXdegby_C5j"
      },
      "execution_count": null,
      "outputs": []
    },
    {
      "cell_type": "markdown",
      "metadata": {
        "application/vnd.databricks.v1+cell": {
          "cellMetadata": {},
          "inputWidgets": {},
          "nuid": "639495f1-9266-4e40-834a-179ede3d341c",
          "showTitle": false,
          "title": ""
        },
        "id": "rydFL4xClRus"
      },
      "source": [
        "## Summary\n",
        "\n",
        "We've covered some common LLM applications and seen how to get started with them quickly using pre-trained models from the Hugging Face Hub.  We've also see how to tweak some configurations.\n",
        "\n",
        "But how did we find those models for our tasks?  In the lab, you will find new pre-trained models for tasks, using the Hugging Face Hub.  You will also explore tweaking model configurations to gain intuition about their effects."
      ]
    },
    {
      "cell_type": "markdown",
      "metadata": {
        "application/vnd.databricks.v1+cell": {
          "cellMetadata": {},
          "inputWidgets": {},
          "nuid": "6f222203-d70c-4d58-9010-a383d2c36433",
          "showTitle": false,
          "title": ""
        },
        "id": "fE0Ndqi8lRus"
      },
      "source": [
        "&copy; 2023 Databricks, Inc. All rights reserved.<br/>\n",
        "Apache, Apache Spark, Spark and the Spark logo are trademarks of the <a href=\"https://www.apache.org/\">Apache Software Foundation</a>.<br/>\n",
        "<br/>\n",
        "<a href=\"https://databricks.com/privacy-policy\">Privacy Policy</a> | <a href=\"https://databricks.com/terms-of-use\">Terms of Use</a> | <a href=\"https://help.databricks.com/\">Support</a>"
      ]
    }
  ],
  "metadata": {
    "application/vnd.databricks.v1+notebook": {
      "dashboards": [],
      "language": "python",
      "notebookMetadata": {
        "pythonIndentUnit": 4
      },
      "notebookName": "LLM 01 - LLMs with Hugging Face",
      "widgets": {}
    },
    "colab": {
      "provenance": []
    },
    "language_info": {
      "name": "python"
    },
    "kernelspec": {
      "name": "python3",
      "display_name": "Python 3"
    }
  },
  "nbformat": 4,
  "nbformat_minor": 0
}